{
 "cells": [
  {
   "cell_type": "markdown",
   "metadata": {},
   "source": [
    "# Comparison with benchmark of SNe Ia mu0 ($\\mu_0$) calculations \n",
    "# in Python (NumPy) x Python Numba CPU serial x \n",
    "# Python Numba CPU // x Python Numba GPU x \n",
    "# Python CuPy x C x C/OpenMP x CUDA x PyCUDA \n",
    "## 22/01-01/03/2019\n",
    "### Authors : Roberto Colistete Júnior, Lara Tidesco Zumerle"
   ]
  },
  {
   "cell_type": "markdown",
   "metadata": {},
   "source": [
    "Computers used :"
   ]
  },
  {
   "cell_type": "markdown",
   "metadata": {},
   "source": [
    "- **Notebook Dell XPS 15** with CPU [**Intel Core i7 2670QM**](https://ark.intel.com/products/53469/Intel-Core-i7-2670QM-Processor-6M-Cache-up-to-3-10-GHz-) 2.2-3.1 GHz 4 cores/8 threads 6MB cache with integrated GPU Intel HD Graphics 3000 & GPU dedicated [**NVidia GeForce GPU GT 540M**](https://www.geforce.com/hardware/notebook-gpus/geforce-gt-540m/specifications) 2GB RAM 96 cores CC2.1.  \n",
    "Manjaro KDE 18.0.2 64 bits, kernel 4.20.1, gcc 8.2.1, driver NVidia 390.87, CUDA 8.0.  \n",
    "Anaconda 3 2018-12, Python 3.7.1, NumPy 1.15.4, PyCUDA 2018.1.1 (Python 2.7.15), Numba 0.41.0 with CUDAToolkit 8.0.\n",
    "- **Notebook Dell G3 15 3579** with CPU [**Intel Core i7 8750H**](https://ark.intel.com/products/134906/Intel-Core-i7-8750H-Processor-9M-Cache-up-to-4-10-GHz-) Kaby Lake 2.2-4.1 GHz 6 cores/12 threads 9MB cache with integrated GPU Intel UHD Graphics 630 & GPU dedicated [**NVidia GeForce GTX 1050 Ti Mobile**](https://www.nvidia.com/en-us/geforce/products/10series/laptops/) 4GB RAM 768 cores CC6.1.   \n",
    "Manjaro KDE 18.0.2 64 bits, kernel 4.20.1, gcc 8.2.1, driver NVidia 415.25, CUDA 10.0.  \n",
    "Anaconda 3 2018-12, Python 3.7.1, NumPy 1.15.4, PyCUDA 2018.1.1 (Python 2.7.15), Numba 0.41.0 with CUDAToolkit 9.2.\n",
    "- **Computer in Google Colab(oratory) cloud** :  \n",
    "Server with CPU [**Intel Xeon** E5-2699 (or similar)](https://ark.intel.com/content/www/us/en/ark/products/81061/intel-xeon-processor-e5-2699-v3-45m-cache-2-30-ghz.html) 2.3-3.6 GHz 18 cores/36 threads 45MB cache & GPU dedicada [**NVidia Tesla K80**](https://www.nvidia.com.br/object/tesla-k80-br.html) 24GB RAM 2x2496 cores CC3.7.  \n",
    "Available via Google Colab : Xeon 2 cores 12-13GB de RAM, K80 with (possibly) 11GB of RAM 2496 cores.  \n",
    "Ubuntu 18.04.1 64 bits, kernel 4.14.79, gcc 7.3.0. Python 3.6.7, NumPy 1.14.6, Numba 0.40.1 with CUDA 9.2.\n",
    "- **Notebook Dell Latitude E7440** with CPU [**Intel Core i5 4310U**](https://ark.intel.com/products/80343/Intel-Core-i5-4310U-Processor-3M-Cache-up-to-3-00-GHz-) 2.0-3.0 GHz 2 cores/4 threads 3MB cache with integrated GPU Intel HD Graphics 4400.   \n",
    "MX Linux 18.0 64 bits, kernel 4.19.0, gcc 6.3.0. Anaconda 3 2018-12, Python 3.7.1, NumPy 1.15.4, Numba 0.41.0.\n",
    "- [**Smartphone Gemini 4G**](https://store.planetcom.co.uk/collections/gemini-pda/products/gemini-pda-1) with CPU ARM [**MediaTek MT6797X Helio X27**](https://www.notebookcheck.net/MediaTek-Helio-X27-MT6797X-SoC-Benchmarks-and-Specs.320196.0.html) 2x Cortex A72 @ 2.6 GHz, 4x Cortex A53 @ 2.0 GHz, 4x Cortex A53 @ 1.6 GHz, with integrated GPU Quad Core ARM Mali T880 MP4 @ 875MHz.  \n",
    "Debian 9.6 LXQt ARM 64 bits, kernel 3.18.41, gcc 6.3.0. Python 3.5.3, NumPy 1.15.0, Numba 0.35.0."
   ]
  },
  {
   "cell_type": "markdown",
   "metadata": {},
   "source": [
    "SP : Single Precision (32 bits)\n",
    "DP : Double Precision (64 bits)\n"
   ]
  },
  {
   "cell_type": "markdown",
   "metadata": {},
   "source": [
    "| Tool \\ Computer time   | Dell XPS15 | Dell G3 | Google Colab | Dell E7440 | Asus 1215B | Gemini | RPi Zero | RPi 3B+ |\n",
    "| ---------------------- | ----- | --- ------------- | --------- | -------------------- | ------------ | ------------------- | ---------- | ------------------ |\n",
    "| C                      |    1.42s | 0.273s |   0.542s |  0.955s |      s |   2.49s |       s |       s |\n",
    "| C OpenMP //            |   0.391s |0.0474s |   0.276s |  0.544s |      s |   1.32s |       s |       s |\n",
    "| Python                 |    87.7s |  35.6s |    59.9s |   52.2s |      s |    342s |       s |       s |\n",
    "| Python NumPy           |    3.13s |  1.65s |    1.62s |   2.84s |      s |   11.3s |       s |       s |\n",
    "| Python Numba           |    1.66s | 0.358s |   0.619s |   1.13s |      s |   2.57s |       s |       s |\n",
    "| Python NumPy Numba     |    1.44s | 0.295s |   0.791s |  0.922s |      s |   5.20s |       s |       s |\n",
    "| Python Numba //        |   0.611s | 0.131s |   0.602s |  0.774s |      s |   1.10s |       s |       s |\n",
    "| Python NumPy Numba //  |   0.391s |0.0464s |   0.413s |  0.562s |      s |  0.985s |       s |       s |\n",
    "| CUDA SP                |  0.0160s |0.00128s| 0.00156s |     -   |   -    |     -   |     -   |     -   |\n",
    "| CUDA kernel SP         |  0.0157s |0.00108s| 0.00123s |     -   |   -    |     -   |     -   |     -   |\n",
    "| CUDA DP                |   0.123s |0.0377s | 0.00488s |     -   |   -    |     -   |     -   |     -   |\n",
    "| CUDA kernel DP         |   0.122s |0.0374s | 0.00428s |     -   |   -    |     -   |     -   |     -   |\n",
    "| PyCUDA SP              |  0.0502s |0.00401s| 0.00594s |     -   |   -    |     -   |     -   |     -   |\n",
    "| PyCUDA kernel SP       |  0.0497s |0.00374s| 0.00465s |     -   |   -    |     -   |     -   |     -   |\n",
    "| PyCUDA DP              |  0.1233s |0.0378s | 0.00654s |     -   |   -    |     -   |     -   |     -   |\n",
    "| PyCUDA kernel DP       |  0.1225s |0.0374s | 0.00484s |     -   |   -    |     -   |     -   |     -   |\n",
    "| Numba GPU vectorize SP |   0.172s |0.0495s | 0.00922s |     -   |   -    |     -   |     -   |     -   |\n",
    "| Numba GPU SP           |   0.171s |0.0493s | 0.00765s |     -   |   -    |     -   |     -   |     -   |\n",
    "| Numba GPU kernel SP    |   0.170s |0.0486s | 0.00648s |     -   |   -    |     -   |     -   |     -   |\n",
    "| Numba GPU vectorize DP |   0.214s |0.0629s |  0.0115s |     -   |   -    |     -   |     -   |     -   |\n",
    "| Numba GPU DP           |   0.213s |0.0635s | 0.00833s |     -   |   -    |     -   |     -   |     -   |\n",
    "| Numba GPU kernel DP    |   0.211s |0.0627s | 0.00693s |     -   |   -    |     -   |     -   |     -   |"
   ]
  },
  {
   "cell_type": "markdown",
   "metadata": {},
   "source": [
    "Analysis :\n",
    "- **Numba CPU (1 thread)** : gain of **83-163x with respect to (wrt) Python+NumPy**, not considering Numba compilation;\n",
    "- **Numba CPU //** : gain of **122-430x** wrt Python+NumPy, not considering Numba compilation;\n",
    "- **Numba GPU** : gain of **525-2037x** wrt Python+NumPy, not considering Numba compilation;\n",
    "- **Numba GPU kernel** : gain of **585-6111x** wrt Python+NumPy, not considering Numba compilation and the GPU host->device and device->host comunication;\n",
    "- **Numba CPU //** : gain of **3.6x wrt Numba CPU (1 thread) on Dell XPS15 (i7 4-core), 4.3x on Dell G3 (i7 6-cores)**, even with CPU dual core the gain is 1.22-1.63x, not considering Numba compilation;\n",
    "- **Numba GPU** : gain of **50x wrt Numba CPU // only with GPU with many cores**, case of Tesla K80, or else it is about 1-2x, not considering Numba compilation;\n",
    "- **Numba CPU compile** : it's 5-6x slower than not considering Numba compilation;\n",
    "- **Numba CPU // compile** : it's 11-27x slower than not considering Numba compilation;\n",
    "- **Dell G3** with i7 6-cores : **compared to Dell XPS15** with i7 4-cores, it's **2.4x** faster in Python, **2.0x** in Numba CPU //, **3.2x** in Numba GPU kernel;\n",
    "- **Tesla K80\" do Google Colab\"** : in Numba GPU kernel the gain is **5x wrt GTX 1050 Ti Mobile** of Dell G3, and 16x wrt GT 540M of Dell XPS15;\n",
    "- **Gemini** with CPU ARM 64 bits : using **Python+NumPy+Numba // the gain is 32-78x wrt PC's running Python+NumPy** !\n",
    "- **Gemini** with CPU ARM 64 bits : using **Python+NumPy+Numba is only 2.4-4.0x worse than Intel CPU's**, while in Python+NumPy it's 3-8x.\n"
   ]
  }
 ],
 "metadata": {
  "kernelspec": {
   "display_name": "Python 3",
   "language": "python",
   "name": "python3"
  },
  "language_info": {
   "codemirror_mode": {
    "name": "ipython",
    "version": 3
   },
   "file_extension": ".py",
   "mimetype": "text/x-python",
   "name": "python",
   "nbconvert_exporter": "python",
   "pygments_lexer": "ipython3",
   "version": "3.7.1"
  }
 },
 "nbformat": 4,
 "nbformat_minor": 2
}
